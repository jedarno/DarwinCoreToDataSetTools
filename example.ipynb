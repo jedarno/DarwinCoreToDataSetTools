{
 "cells": [
  {
   "cell_type": "code",
   "execution_count": 1,
   "id": "dc53624d",
   "metadata": {},
   "outputs": [
    {
     "name": "stdout",
     "output_type": "stream",
     "text": [
      "\u001b[34mDC_files\u001b[m\u001b[m/             \u001b[34mexample_dwc\u001b[m\u001b[m/          occurrence.txt\r\n",
      "LICENSE               \u001b[34mexample_image_folder\u001b[m\u001b[m/ \u001b[34msample_methods\u001b[m\u001b[m/\r\n",
      "README.md             \u001b[34mfreq_tables\u001b[m\u001b[m/          test.csv\r\n",
      "Untitled.ipynb        \u001b[34mimages\u001b[m\u001b[m/               \u001b[34mvenv\u001b[m\u001b[m/\r\n",
      "__init__.py           \u001b[34mlabel_blurring\u001b[m\u001b[m/\r\n",
      "\u001b[34m__pycache__\u001b[m\u001b[m/          multimedia.txt\r\n"
     ]
    }
   ],
   "source": [
    "ls"
   ]
  },
  {
   "cell_type": "code",
   "execution_count": 2,
   "id": "9ddaa30c",
   "metadata": {},
   "outputs": [
    {
     "name": "stdout",
     "output_type": "stream",
     "text": [
      "citations.txt   meta.xml        multimedia.txt  rights.txt\r\n",
      "\u001b[34mdataset\u001b[m\u001b[m/        metadata.xml    occurrence.txt  verbatim.txt\r\n"
     ]
    }
   ],
   "source": [
    "ls example_dwc"
   ]
  },
  {
   "cell_type": "code",
   "execution_count": 3,
   "id": "3e1dd473",
   "metadata": {},
   "outputs": [],
   "source": [
    "import pandas as pd\n",
    "\n",
    "from sample_methods import df_tools, image_tools"
   ]
  },
  {
   "cell_type": "markdown",
   "id": "d7803300",
   "metadata": {},
   "source": [
    "### Sample images"
   ]
  },
  {
   "cell_type": "code",
   "execution_count": 4,
   "id": "2641adc6",
   "metadata": {},
   "outputs": [],
   "source": [
    "lt = 5\n",
    "ut = 100\n",
    "#Create dataframe of imagelinks and taxanomic labels\n",
    "data_df = df_tools.observations_to_df(\"example_dwc/occurrence.txt\", \"example_dwc/multimedia.txt\")\n",
    "data_df.dropna()\n",
    "species_freq = data_df['species'].value_counts(sort=True) \n",
    "species = species_freq.index\n",
    "#Sample a subset of the observations\n",
    "sample_df = df_tools.sample(data_df, ut, lt, 'species', species, species_freq)"
   ]
  },
  {
   "cell_type": "markdown",
   "id": "c0117bab",
   "metadata": {},
   "source": [
    "### Download Sample"
   ]
  },
  {
   "cell_type": "code",
   "execution_count": 5,
   "id": "9f236997",
   "metadata": {},
   "outputs": [],
   "source": [
    "image_tools.build_image_dir(species, \"example_image_folder\")\n",
    "image_tools.download_sample(\"example_image_folder\", sample_df, 'species', data_df)"
   ]
  },
  {
   "cell_type": "code",
   "execution_count": null,
   "id": "a4b40621",
   "metadata": {},
   "outputs": [],
   "source": []
  }
 ],
 "metadata": {
  "kernelspec": {
   "display_name": "Python 3.10",
   "language": "python",
   "name": "python3.10"
  },
  "language_info": {
   "codemirror_mode": {
    "name": "ipython",
    "version": 3
   },
   "file_extension": ".py",
   "mimetype": "text/x-python",
   "name": "python",
   "nbconvert_exporter": "python",
   "pygments_lexer": "ipython3",
   "version": "3.9.12"
  }
 },
 "nbformat": 4,
 "nbformat_minor": 5
}
