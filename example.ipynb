{
 "cells": [
  {
   "cell_type": "code",
   "execution_count": null,
   "id": "3e1dd473",
   "metadata": {
    "executionInfo": {
     "elapsed": 15654,
     "status": "ok",
     "timestamp": 1740678680504,
     "user": {
      "displayName": "Jed Arno",
      "userId": "10451181422601770727"
     },
     "user_tz": 0
    },
    "id": "3e1dd473"
   },
   "outputs": [],
   "source": [
    "import pandas as pd\n",
    "import skimage\n",
    "from sample_methods import df_tools, image_tools\n",
    "from label_blurring import blur_utils"
   ]
  },
  {
   "cell_type": "markdown",
   "id": "d7803300",
   "metadata": {
    "id": "d7803300"
   },
   "source": [
    "### Sample images"
   ]
  },
  {
   "cell_type": "code",
   "execution_count": null,
   "id": "2641adc6",
   "metadata": {
    "colab": {
     "base_uri": "https://localhost:8080/"
    },
    "executionInfo": {
     "elapsed": 1152,
     "status": "ok",
     "timestamp": 1740678681647,
     "user": {
      "displayName": "Jed Arno",
      "userId": "10451181422601770727"
     },
     "user_tz": 0
    },
    "id": "2641adc6",
    "outputId": "f935c365-e456-4f45-fbf6-3d9c631f799d"
   },
   "outputs": [],
   "source": [
    "lt = 5\n",
    "ut = 100\n",
    "#Create dataframe of imagelinks and taxanomic labels\n",
    "data_df = df_tools.observations_to_df(\"example_dwc/occurrence.txt\", \"example_dwc/multimedia.txt\")\n",
    "data_df.dropna()\n",
    "species_freq = data_df['species'].value_counts(sort=True)\n",
    "species = species_freq.index\n",
    "#Sample a subset of the observations\n",
    "sample_df = df_tools.sample(data_df, ut, lt, 'species', species, species_freq)"
   ]
  },
  {
   "cell_type": "markdown",
   "id": "c0117bab",
   "metadata": {
    "id": "c0117bab"
   },
   "source": [
    "### Download Sample"
   ]
  },
  {
   "cell_type": "code",
   "execution_count": null,
   "id": "9f236997",
   "metadata": {
    "executionInfo": {
     "elapsed": 4616,
     "status": "ok",
     "timestamp": 1740678686266,
     "user": {
      "displayName": "Jed Arno",
      "userId": "10451181422601770727"
     },
     "user_tz": 0
    },
    "id": "9f236997"
   },
   "outputs": [],
   "source": [
    "sample_species = sample_df['species'].unique()\n",
    "image_tools.build_image_dir(sample_species, \"example_image_folder\")\n",
    "image_tools.download_sample(\"example_image_folder\", sample_df, 'species', data_df)"
   ]
  },
  {
   "cell_type": "markdown",
   "id": "0ba0670d",
   "metadata": {
    "id": "0ba0670d"
   },
   "source": [
    "### Blurring Labels"
   ]
  },
  {
   "cell_type": "code",
   "execution_count": null,
   "id": "a4b40621",
   "metadata": {
    "colab": {
     "base_uri": "https://localhost:8080/"
    },
    "executionInfo": {
     "elapsed": 70491,
     "status": "ok",
     "timestamp": 1740678756769,
     "user": {
      "displayName": "Jed Arno",
      "userId": "10451181422601770727"
     },
     "user_tz": 0
    },
    "id": "a4b40621",
    "outputId": "8c421935-31af-49d0-9620-18d5e046492d"
   },
   "outputs": [],
   "source": [
    "image_tools.build_image_dir(sample_species, \"example_blurred_image_folder\")\n",
    "model = \"label_blurring/CRAFT_models/craft_mlt_25k.pth\" # Model weights need to be downloaded\n",
    "\n",
    "for label in species:\n",
    "\n",
    "  #Loop through training images\n",
    "  try:\n",
    "    path = \"example_image_folder/train/{}\".format(label)\n",
    "    print(\"Path: {}\".format(path))\n",
    "    target_folder = \"example_blurred_image_folder/train/{}/\".format(label)\n",
    "    blur_utils.CRAFT_Blur_directory(model, path, margin=15, res_dirname=target_folder, cuda=True)\n",
    "    print(\"{} finished\".format(target_folder))\n",
    "  except Exception as e:\n",
    "    print(\"Error: failed to open train folder for {} \\n {}\".format(label, e))"
   ]
  },
  {
   "cell_type": "markdown",
   "id": "Z8DKLMQ5Grc7",
   "metadata": {
    "id": "Z8DKLMQ5Grc7"
   },
   "source": [
    "### Separate holdout test images"
   ]
  },
  {
   "cell_type": "code",
   "execution_count": null,
   "id": "a9448709",
   "metadata": {
    "executionInfo": {
     "elapsed": 10,
     "status": "ok",
     "timestamp": 1740678756775,
     "user": {
      "displayName": "Jed Arno",
      "userId": "10451181422601770727"
     },
     "user_tz": 0
    },
    "id": "a9448709"
   },
   "outputs": [],
   "source": [
    "image_tools.split_test_images(\"example_blurred_image_folder\", sample_species)"
   ]
  }
 ],
 "metadata": {
  "accelerator": "GPU",
  "colab": {
   "gpuType": "T4",
   "provenance": []
  },
  "kernelspec": {
   "display_name": "Python 3 (ipykernel)",
   "language": "python",
   "name": "python3"
  },
  "language_info": {
   "codemirror_mode": {
    "name": "ipython",
    "version": 3
   },
   "file_extension": ".py",
   "mimetype": "text/x-python",
   "name": "python",
   "nbconvert_exporter": "python",
   "pygments_lexer": "ipython3",
   "version": "3.9.12"
  }
 },
 "nbformat": 4,
 "nbformat_minor": 5
}
